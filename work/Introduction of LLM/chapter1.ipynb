{
 "cells": [
  {
   "cell_type": "code",
   "execution_count": 1,
   "id": "f3b7d3d0-392b-4d06-827e-b5ec53ab5fa9",
   "metadata": {},
   "outputs": [
    {
     "name": "stdout",
     "output_type": "stream",
     "text": [
      "PRETTY_NAME=\"Ubuntu 22.04.3 LTS\"\n",
      "NAME=\"Ubuntu\"\n"
     ]
    }
   ],
   "source": [
    "# OSのチェック\n",
    "!cat /etc/os-release | head -n 2"
   ]
  },
  {
   "cell_type": "code",
   "execution_count": 2,
   "id": "ae12cb6c-fd28-49bb-97f2-0f0103089b78",
   "metadata": {},
   "outputs": [],
   "source": [
    "from transformers import pipeline"
   ]
  },
  {
   "cell_type": "code",
   "execution_count": 6,
   "id": "29e1d72c-02e2-45c4-8465-cec2bdf574b1",
   "metadata": {},
   "outputs": [],
   "source": [
    "text_classification_pipeline = pipeline(model=\"llm-book/bert-base-japanese-v3-marc_ja\")"
   ]
  },
  {
   "cell_type": "code",
   "execution_count": 8,
   "id": "86f6278f-69ab-4f5e-8659-2d092a76903a",
   "metadata": {},
   "outputs": [
    {
     "name": "stdout",
     "output_type": "stream",
     "text": [
      "{'label': 'positive', 'score': 0.9994138479232788}\n"
     ]
    }
   ],
   "source": [
    "positive_text = '世界には言葉がわからなくても感動する音楽がある'\n",
    "print(text_classification_pipeline(positive_text)[0])"
   ]
  },
  {
   "cell_type": "code",
   "execution_count": 12,
   "id": "753938cf-8171-4d64-8f89-584877a0ec67",
   "metadata": {},
   "outputs": [
    {
     "data": {
      "text/plain": [
       "['▁', '今日', 'は', '天気', 'が良い', 'の', 'で']"
      ]
     },
     "execution_count": 12,
     "metadata": {},
     "output_type": "execute_result"
    }
   ],
   "source": [
    "from transformers import AutoTokenizer\n",
    "tokenizer = AutoTokenizer.from_pretrained(\"abeja/gpt2-large-japanese\",  lagacy=False)\n",
    "tokenizer.tokenize('今日は天気が良いので')"
   ]
  },
  {
   "cell_type": "code",
   "execution_count": 19,
   "id": "83688b8d-e876-4548-915a-7500c34bfe8c",
   "metadata": {},
   "outputs": [
    {
     "name": "stdout",
     "output_type": "stream",
     "text": [
      "今日は天気が良いので外でお弁当を食べました。\n"
     ]
    }
   ],
   "source": [
    "from transformers import AutoModelForCausalLM\n",
    "\n",
    "model=AutoModelForCausalLM.from_pretrained(\"abeja/gpt2-large-japanese\")\n",
    "\n",
    "input = tokenizer('今日は天気が良いので', return_tensors='pt') # 分割と同時に単語id化\n",
    "output = model.generate(\n",
    "    **input,\n",
    "    max_length=15,\n",
    "    pad_token_id = tokenizer.pad_token_id\n",
    ")\n",
    "\n",
    "generated_text = tokenizer.decode(output[0], skip_special_tokens=True)\n",
    "print(generated_text)"
   ]
  },
  {
   "cell_type": "code",
   "execution_count": null,
   "id": "6078a43d-7966-41a0-bef6-a29af3cc1c24",
   "metadata": {},
   "outputs": [],
   "source": []
  },
  {
   "cell_type": "code",
   "execution_count": null,
   "id": "e7fe127e-c313-47b8-947e-3c335d827737",
   "metadata": {},
   "outputs": [],
   "source": []
  },
  {
   "cell_type": "code",
   "execution_count": null,
   "id": "d8d207a6-f75e-4179-9c89-f05152dc00b6",
   "metadata": {},
   "outputs": [],
   "source": []
  },
  {
   "cell_type": "code",
   "execution_count": null,
   "id": "f2709773-4b82-4cb2-b639-9f9fdfcf8059",
   "metadata": {},
   "outputs": [],
   "source": []
  },
  {
   "cell_type": "code",
   "execution_count": null,
   "id": "8db33d9b-bb32-4799-9624-73b74723254a",
   "metadata": {},
   "outputs": [],
   "source": []
  },
  {
   "cell_type": "code",
   "execution_count": null,
   "id": "00aef899-f2ba-4d5a-aa6f-6174e7d2f4f1",
   "metadata": {},
   "outputs": [],
   "source": []
  },
  {
   "cell_type": "code",
   "execution_count": null,
   "id": "1f9a2d0c-bf87-4a61-8161-e408309c3e9e",
   "metadata": {},
   "outputs": [],
   "source": []
  },
  {
   "cell_type": "code",
   "execution_count": null,
   "id": "cdfc1072-20f2-487d-9592-3865f85c3454",
   "metadata": {},
   "outputs": [],
   "source": []
  },
  {
   "cell_type": "code",
   "execution_count": null,
   "id": "9df4cf32-cd38-454c-8a4e-4e8ba00f0ad5",
   "metadata": {},
   "outputs": [],
   "source": []
  }
 ],
 "metadata": {
  "kernelspec": {
   "display_name": "Python 3 (ipykernel)",
   "language": "python",
   "name": "python3"
  },
  "language_info": {
   "codemirror_mode": {
    "name": "ipython",
    "version": 3
   },
   "file_extension": ".py",
   "mimetype": "text/x-python",
   "name": "python",
   "nbconvert_exporter": "python",
   "pygments_lexer": "ipython3",
   "version": "3.10.12"
  }
 },
 "nbformat": 4,
 "nbformat_minor": 5
}
