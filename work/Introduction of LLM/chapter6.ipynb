{
 "cells": [
  {
   "cell_type": "code",
   "execution_count": 44,
   "id": "46ab473e-c1cd-4a6a-a192-1eaba4eeffd2",
   "metadata": {},
   "outputs": [],
   "source": [
    "from datasets import load_dataset\n",
    "from pprint import pprint\n",
    "from collections import Counter\n",
    "import pandas as pd\n",
    "from datasets import Dataset\n",
    "from unicodedata import normalize, is_normalized"
   ]
  },
  {
   "cell_type": "code",
   "execution_count": 4,
   "id": "9b0391db-eaf0-4ab6-8200-17e6875ad432",
   "metadata": {},
   "outputs": [],
   "source": [
    "dataset = load_dataset('llm-book/ner-wikipedia-dataset', trust_remote_code=True)"
   ]
  },
  {
   "cell_type": "code",
   "execution_count": 5,
   "id": "ba1cab38-7596-4229-bc6c-6990220cf89d",
   "metadata": {},
   "outputs": [
    {
     "name": "stdout",
     "output_type": "stream",
     "text": [
      "DatasetDict({\n",
      "    train: Dataset({\n",
      "        features: ['curid', 'text', 'entities'],\n",
      "        num_rows: 4274\n",
      "    })\n",
      "    validation: Dataset({\n",
      "        features: ['curid', 'text', 'entities'],\n",
      "        num_rows: 534\n",
      "    })\n",
      "    test: Dataset({\n",
      "        features: ['curid', 'text', 'entities'],\n",
      "        num_rows: 535\n",
      "    })\n",
      "})\n"
     ]
    }
   ],
   "source": [
    "print(dataset)"
   ]
  },
  {
   "cell_type": "code",
   "execution_count": 7,
   "id": "2699452e-f562-4fe0-9af7-01ccf20889a2",
   "metadata": {},
   "outputs": [
    {
     "name": "stdout",
     "output_type": "stream",
     "text": [
      "[{'curid': '3638038',\n",
      "  'entities': [{'name': 'さくら学院', 'span': [0, 5], 'type': 'その他の組織名'},\n",
      "               {'name': 'Ciao Smiles', 'span': [6, 17], 'type': 'その他の組織名'}],\n",
      "  'text': 'さくら学院、Ciao Smilesのメンバー。'},\n",
      " {'curid': '1729527',\n",
      "  'entities': [{'name': 'レクレアティーボ・ウェルバ', 'span': [17, 30], 'type': 'その他の組織名'},\n",
      "               {'name': 'プリメーラ・ディビシオン', 'span': [32, 44], 'type': 'その他の組織名'}],\n",
      "  'text': '2008年10月5日、アウェーでのレクレアティーボ・ウェルバ戦でプリメーラ・ディビシオンでの初得点を決めた。'}]\n"
     ]
    }
   ],
   "source": [
    "pprint(list(dataset['train'])[:2])"
   ]
  },
  {
   "cell_type": "code",
   "execution_count": 11,
   "id": "98fdbd19-1010-4769-8fe1-b681da08f3a1",
   "metadata": {},
   "outputs": [
    {
     "name": "stdout",
     "output_type": "stream",
     "text": [
      "{'curid': '3638038',\n",
      " 'entities': [{'name': 'さくら学院', 'span': [0, 5], 'type': 'その他の組織名'},\n",
      "              {'name': 'Ciao Smiles', 'span': [6, 17], 'type': 'その他の組織名'}],\n",
      " 'text': 'さくら学院、Ciao Smilesのメンバー。'}\n"
     ]
    }
   ],
   "source": [
    "for i in dataset['train']:\n",
    "    pprint(i)\n",
    "    break"
   ]
  },
  {
   "cell_type": "markdown",
   "id": "5ae13559-00ed-4f0a-a19e-e2f03d283f97",
   "metadata": {},
   "source": [
    "・今回はテキストに含まれる固有表現のスパンとそのタイプを指定する"
   ]
  },
  {
   "cell_type": "code",
   "execution_count": 31,
   "id": "b5eeb6e1-b3fa-4896-b908-9c6a9d9d7ba5",
   "metadata": {},
   "outputs": [
    {
     "data": {
      "text/html": [
       "<div>\n",
       "<style scoped>\n",
       "    .dataframe tbody tr th:only-of-type {\n",
       "        vertical-align: middle;\n",
       "    }\n",
       "\n",
       "    .dataframe tbody tr th {\n",
       "        vertical-align: top;\n",
       "    }\n",
       "\n",
       "    .dataframe thead th {\n",
       "        text-align: right;\n",
       "    }\n",
       "</style>\n",
       "<table border=\"1\" class=\"dataframe\">\n",
       "  <thead>\n",
       "    <tr style=\"text-align: right;\">\n",
       "      <th></th>\n",
       "      <th>train</th>\n",
       "      <th>validation</th>\n",
       "      <th>test</th>\n",
       "    </tr>\n",
       "  </thead>\n",
       "  <tbody>\n",
       "    <tr>\n",
       "      <th>人名</th>\n",
       "      <td>2394</td>\n",
       "      <td>299</td>\n",
       "      <td>287</td>\n",
       "    </tr>\n",
       "    <tr>\n",
       "      <th>法人名</th>\n",
       "      <td>2006</td>\n",
       "      <td>231</td>\n",
       "      <td>248</td>\n",
       "    </tr>\n",
       "    <tr>\n",
       "      <th>地名</th>\n",
       "      <td>1769</td>\n",
       "      <td>184</td>\n",
       "      <td>204</td>\n",
       "    </tr>\n",
       "    <tr>\n",
       "      <th>政治的組織名</th>\n",
       "      <td>953</td>\n",
       "      <td>121</td>\n",
       "      <td>106</td>\n",
       "    </tr>\n",
       "    <tr>\n",
       "      <th>製品名</th>\n",
       "      <td>934</td>\n",
       "      <td>123</td>\n",
       "      <td>158</td>\n",
       "    </tr>\n",
       "    <tr>\n",
       "      <th>施設名</th>\n",
       "      <td>868</td>\n",
       "      <td>103</td>\n",
       "      <td>137</td>\n",
       "    </tr>\n",
       "    <tr>\n",
       "      <th>その他の組織名</th>\n",
       "      <td>852</td>\n",
       "      <td>99</td>\n",
       "      <td>100</td>\n",
       "    </tr>\n",
       "    <tr>\n",
       "      <th>イベント名</th>\n",
       "      <td>831</td>\n",
       "      <td>85</td>\n",
       "      <td>93</td>\n",
       "    </tr>\n",
       "    <tr>\n",
       "      <th>合計</th>\n",
       "      <td>10607</td>\n",
       "      <td>1245</td>\n",
       "      <td>1333</td>\n",
       "    </tr>\n",
       "  </tbody>\n",
       "</table>\n",
       "</div>"
      ],
      "text/plain": [
       "         train  validation  test\n",
       "人名        2394         299   287\n",
       "法人名       2006         231   248\n",
       "地名        1769         184   204\n",
       "政治的組織名     953         121   106\n",
       "製品名        934         123   158\n",
       "施設名        868         103   137\n",
       "その他の組織名    852          99   100\n",
       "イベント名      831          85    93\n",
       "合計       10607        1245  1333"
      ]
     },
     "execution_count": 31,
     "metadata": {},
     "output_type": "execute_result"
    }
   ],
   "source": [
    "# データセットの分析\n",
    "\n",
    "def count_label_occurrences(dataset: Dataset) -> dict[str, int]:\n",
    "\n",
    "    # 固有表現タイプを抽出したlistを作成する\n",
    "    entities = [\n",
    "        e['type'] for data in dataset for e in data['entities']\n",
    "    ]\n",
    "\n",
    "    # ラベルの出現回数が多い順に並び変える\n",
    "    # Counterにはmost_common()メソッドがあり、(要素, 出現回数)という形のタプルを出現回数順に並べたリストを返す。\n",
    "    label_counts = dict(Counter(entities).most_common())\n",
    "    return label_counts\n",
    "\n",
    "\n",
    "label_counts_dict = {}\n",
    "for split in dataset:\n",
    "    label_counts_dict[split] = count_label_occurrences(dataset[split])\n",
    "df = pd.DataFrame(label_counts_dict)\n",
    "df.loc['合計'] = df.sum()\n",
    "df"
   ]
  },
  {
   "cell_type": "code",
   "execution_count": 40,
   "id": "6b099caf-d4fa-4f29-b366-0a992ef232d9",
   "metadata": {
    "scrolled": true
   },
   "outputs": [
    {
     "name": "stdout",
     "output_type": "stream",
     "text": [
      "trainにおけるスパンが重複する事例数：0\n",
      "validationにおけるスパンが重複する事例数：0\n",
      "testにおけるスパンが重複する事例数：0\n"
     ]
    }
   ],
   "source": [
    "def has_overlap(spans):\n",
    "    sorted_spans = sorted(spans, key=lambda x: x[0])\n",
    "    for i in range(1, len(sorted_spans)):\n",
    "        if sorted_spans[i-1][1] > sorted_spans[i][0]:\n",
    "            return 1\n",
    "    return 0\n",
    "\n",
    "\n",
    "overlap_count = 0\n",
    "for split in dataset:\n",
    "    for data in dataset[split]:\n",
    "        if data['entities']:\n",
    "            spans = [e['span'] for e in data['entities']]\n",
    "            overlap_count += has_overlap(spans)\n",
    "\n",
    "    print(f\"{split}におけるスパンが重複する事例数：{overlap_count}\")"
   ]
  },
  {
   "cell_type": "code",
   "execution_count": 34,
   "id": "5e48ecde-4ee1-4b33-b094-bfc4dc0d6432",
   "metadata": {},
   "outputs": [
    {
     "data": {
      "text/plain": [
       "[[0, 9], [10, 21], [25, 37]]"
      ]
     },
     "execution_count": 34,
     "metadata": {},
     "output_type": "execute_result"
    }
   ],
   "source": [
    "spans"
   ]
  },
  {
   "cell_type": "code",
   "execution_count": 35,
   "id": "ed4e5f2f-afbd-44c0-a454-9fe9539b04f4",
   "metadata": {},
   "outputs": [
    {
     "data": {
      "text/plain": [
       "[{'name': 'ダーヴラ・カーワン', 'span': [0, 9], 'type': '人名'},\n",
       " {'name': 'マーシー・ハーティガン', 'span': [10, 21], 'type': '人名'},\n",
       " {'name': 'ラッセル・T・デイヴィス', 'span': [25, 37], 'type': '人名'}]"
      ]
     },
     "execution_count": 35,
     "metadata": {},
     "output_type": "execute_result"
    }
   ],
   "source": [
    "data['entities']"
   ]
  },
  {
   "cell_type": "code",
   "execution_count": 39,
   "id": "979ef1c3-7ae8-46e9-9e88-66bb3ef0b82e",
   "metadata": {},
   "outputs": [
    {
     "data": {
      "text/plain": [
       "{'curid': ['4113413'],\n",
       " 'text': ['ダーヴラ・カーワンはマーシー・ハーティガンを演じ、ラッセル・T・デイヴィスは本作のポッドキャストコメンタリーで彼女について「これまでにないほどダークな悪役」と表現した。'],\n",
       " 'entities': [[{'name': 'ダーヴラ・カーワン', 'span': [0, 9], 'type': '人名'},\n",
       "   {'name': 'マーシー・ハーティガン', 'span': [10, 21], 'type': '人名'},\n",
       "   {'name': 'ラッセル・T・デイヴィス', 'span': [25, 37], 'type': '人名'}]]}"
      ]
     },
     "execution_count": 39,
     "metadata": {},
     "output_type": "execute_result"
    }
   ],
   "source": [
    "dataset['test'][-1:]"
   ]
  },
  {
   "cell_type": "markdown",
   "id": "68690508-bef7-40eb-9039-2583d8473208",
   "metadata": {},
   "source": [
    "## 前処理"
   ]
  },
  {
   "cell_type": "markdown",
   "id": "0fc749fb-bd07-4a2c-bdcb-389afd1331d4",
   "metadata": {},
   "source": [
    "## テキスト正規化"
   ]
  },
  {
   "cell_type": "code",
   "execution_count": 43,
   "id": "2286c0e3-0f1e-4598-88e3-e1995f7a3369",
   "metadata": {},
   "outputs": [
    {
     "name": "stdout",
     "output_type": "stream",
     "text": [
      "正規化前 ABCＡＢＣabcABCアイウｱｲｳ①②③123\n",
      "正規化後 ABCABCabcABCアイウアイウ123123\n"
     ]
    }
   ],
   "source": [
    "text = \"ABCＡＢＣabcABCアイウｱｲｳ①②③123\"\n",
    "\n",
    "nomalized_text = normalize('NFKC', text)\n",
    "print('正規化前', text)\n",
    "print('正規化後', nomalized_text)"
   ]
  },
  {
   "cell_type": "code",
   "execution_count": 45,
   "id": "e9e1edc5-c517-4cb9-bac9-a5553181fce6",
   "metadata": {},
   "outputs": [
    {
     "name": "stdout",
     "output_type": "stream",
     "text": [
      "正規化されていない事例数: 0\n"
     ]
    }
   ],
   "source": [
    "count = 0\n",
    "for split in dataset:\n",
    "    for data in dataset[split]:\n",
    "        if not is_normalized('NFKC',data['text']): # 正規化されていないとFalseをかえす？\n",
    "            count += 1\n",
    "print(f'正規化されていない事例数: {count}')"
   ]
  },
  {
   "cell_type": "code",
   "execution_count": 48,
   "id": "ee09b72c-2c0a-4540-a034-49a39a36acf6",
   "metadata": {},
   "outputs": [
    {
     "data": {
      "text/plain": [
       "False"
      ]
     },
     "execution_count": 48,
     "metadata": {},
     "output_type": "execute_result"
    }
   ],
   "source": [
    "text = \"ABCＡＢＣabcABCアイウｱｲｳ①②③123\"\n",
    "is_normalized('NFKC', text)"
   ]
  },
  {
   "cell_type": "code",
   "execution_count": null,
   "id": "a64dc447-b952-4090-a20a-409632b7433a",
   "metadata": {},
   "outputs": [],
   "source": []
  },
  {
   "cell_type": "code",
   "execution_count": null,
   "id": "cc9a7efe-a746-4d81-9a05-67a792ca4971",
   "metadata": {},
   "outputs": [],
   "source": []
  },
  {
   "cell_type": "code",
   "execution_count": null,
   "id": "87b0de43-90e3-4b9c-a5e4-f40e7dc3364e",
   "metadata": {},
   "outputs": [],
   "source": []
  },
  {
   "cell_type": "code",
   "execution_count": null,
   "id": "200d2424-c864-430b-96ec-4da8ae2ffec3",
   "metadata": {},
   "outputs": [],
   "source": []
  },
  {
   "cell_type": "code",
   "execution_count": null,
   "id": "17ac174a-8a1f-4a38-bad1-f5115aea8640",
   "metadata": {},
   "outputs": [],
   "source": []
  },
  {
   "cell_type": "code",
   "execution_count": null,
   "id": "c772f0b1-33bc-48fb-ab67-6f35986eed99",
   "metadata": {},
   "outputs": [],
   "source": []
  },
  {
   "cell_type": "code",
   "execution_count": null,
   "id": "d1616dc6-7e01-4cf1-9047-3918a6a1481b",
   "metadata": {},
   "outputs": [],
   "source": []
  },
  {
   "cell_type": "code",
   "execution_count": null,
   "id": "adb68a3f-d0b0-4537-802b-a1b617d8aa55",
   "metadata": {},
   "outputs": [],
   "source": []
  },
  {
   "cell_type": "code",
   "execution_count": null,
   "id": "0b0142e3-7551-4302-b9c5-35f955832778",
   "metadata": {},
   "outputs": [],
   "source": []
  },
  {
   "cell_type": "code",
   "execution_count": null,
   "id": "414a0124-9aa6-49a4-8880-44bb70bfd796",
   "metadata": {},
   "outputs": [],
   "source": []
  },
  {
   "cell_type": "code",
   "execution_count": null,
   "id": "57586eda-83fa-4514-82cd-1651fcb18e9c",
   "metadata": {},
   "outputs": [],
   "source": []
  },
  {
   "cell_type": "code",
   "execution_count": null,
   "id": "d4fb9b57-a8a4-401f-8821-d38dc049bcfd",
   "metadata": {},
   "outputs": [],
   "source": []
  },
  {
   "cell_type": "code",
   "execution_count": null,
   "id": "de5f6833-2f90-42ab-9405-2e051b17ccd3",
   "metadata": {},
   "outputs": [],
   "source": []
  },
  {
   "cell_type": "code",
   "execution_count": null,
   "id": "b027b983-221e-4373-b56f-fbe35ef72386",
   "metadata": {},
   "outputs": [],
   "source": []
  }
 ],
 "metadata": {
  "kernelspec": {
   "display_name": "Python 3 (ipykernel)",
   "language": "python",
   "name": "python3"
  },
  "language_info": {
   "codemirror_mode": {
    "name": "ipython",
    "version": 3
   },
   "file_extension": ".py",
   "mimetype": "text/x-python",
   "name": "python",
   "nbconvert_exporter": "python",
   "pygments_lexer": "ipython3",
   "version": "3.10.12"
  }
 },
 "nbformat": 4,
 "nbformat_minor": 5
}
