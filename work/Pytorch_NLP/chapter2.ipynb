{
 "cells": [
  {
   "cell_type": "markdown",
   "id": "35447b6f-3073-4c4b-9f39-a4e9d71be9ac",
   "metadata": {},
   "source": [
    "## 既存の分散表現とその読み込み"
   ]
  },
  {
   "cell_type": "code",
   "execution_count": 1,
   "id": "df8aa9f0-856a-48c7-9c3f-f30ecc415bdd",
   "metadata": {},
   "outputs": [],
   "source": [
    "from gensim.models import KeyedVectors\n",
    "import numpy as np"
   ]
  },
  {
   "cell_type": "code",
   "execution_count": 2,
   "id": "7bd2892f-b800-4102-88d0-4621ec8f9a03",
   "metadata": {},
   "outputs": [],
   "source": [
    "model = KeyedVectors.load('./chive-1.1-mc5-aunit_gensim/chive-1.1-mc5-aunit.kv')"
   ]
  },
  {
   "cell_type": "markdown",
   "id": "5005b1c9-cd2c-4acf-9c9a-118ab62236ee",
   "metadata": {},
   "source": [
    "## 分散表現の利用法"
   ]
  },
  {
   "cell_type": "code",
   "execution_count": 3,
   "id": "0101b02f-beac-4fdd-b67b-590a6bfb544c",
   "metadata": {},
   "outputs": [
    {
     "name": "stdout",
     "output_type": "stream",
     "text": [
      "<class 'numpy.ndarray'>\n",
      "(300,)\n",
      "float32\n"
     ]
    }
   ],
   "source": [
    "a = model['犬']\n",
    "print(type(a))\n",
    "print(a.shape)\n",
    "print(a.dtype)"
   ]
  },
  {
   "cell_type": "code",
   "execution_count": 4,
   "id": "014497bb-f571-4461-a3d6-e3cc1e64846f",
   "metadata": {},
   "outputs": [
    {
     "data": {
      "text/plain": [
       "0.36400774"
      ]
     },
     "execution_count": 4,
     "metadata": {},
     "output_type": "execute_result"
    }
   ],
   "source": [
    "model.similarity('犬','人')"
   ]
  },
  {
   "cell_type": "code",
   "execution_count": 5,
   "id": "4ccb6991-775a-4506-815c-07a92335c4c8",
   "metadata": {},
   "outputs": [
    {
     "data": {
      "text/plain": [
       "0.3640077"
      ]
     },
     "execution_count": 5,
     "metadata": {},
     "output_type": "execute_result"
    }
   ],
   "source": [
    "# cosin類似度の計算\n",
    "v1 = model['犬']\n",
    "v2 = model['人']\n",
    "nr1 = np.linalg.norm(v1, ord=2)\n",
    "nr2 = np.linalg.norm(v2, ord=2)\n",
    "np.dot(v1, v2) / (nr1*nr2)"
   ]
  },
  {
   "cell_type": "code",
   "execution_count": 6,
   "id": "fd2ee466-2cab-40dd-be58-df8be60cd284",
   "metadata": {},
   "outputs": [
    {
     "name": "stdout",
     "output_type": "stream",
     "text": [
      "322094\n",
      "犬\n"
     ]
    }
   ],
   "source": [
    "# 語彙\n",
    "vocab = model.key_to_index\n",
    "print(len(vocab))\n",
    "\n",
    "v = vocab['犬']\n",
    "\n",
    "wlist = model.index_to_key[793]\n",
    "print(wlist)"
   ]
  },
  {
   "cell_type": "code",
   "execution_count": 7,
   "id": "46173bc2-5b02-4942-942f-b19c3f182774",
   "metadata": {},
   "outputs": [
    {
     "data": {
      "text/plain": [
       "[('愛犬', 0.7968788743019104),\n",
       " ('椀子', 0.7886560559272766),\n",
       " ('ワンコ', 0.78242427110672),\n",
       " ('柴犬', 0.7631046772003174),\n",
       " ('チワワ', 0.7435126304626465)]"
      ]
     },
     "execution_count": 7,
     "metadata": {},
     "output_type": "execute_result"
    }
   ],
   "source": [
    "# 類似度の高い単語を選出\n",
    "model.most_similar('犬', topn=5)"
   ]
  },
  {
   "cell_type": "code",
   "execution_count": 8,
   "id": "0addb19a-fcf9-408e-b4fd-3a92c4b0c538",
   "metadata": {},
   "outputs": [
    {
     "data": {
      "text/plain": [
       "[('アメリカ', 0.698302149772644),\n",
       " ('米国', 0.5914557576179504),\n",
       " ('ロサンゼルス', 0.5447147488594055)]"
      ]
     },
     "execution_count": 8,
     "metadata": {},
     "output_type": "execute_result"
    }
   ],
   "source": [
    "# ベクトル計算\n",
    "model.most_similar(positive=['日本', 'ニューヨーク'], negative=['東京'], topn=3)"
   ]
  },
  {
   "cell_type": "code",
   "execution_count": null,
   "id": "cbcf208c-fd8c-427c-a6fe-44394118419a",
   "metadata": {},
   "outputs": [],
   "source": []
  },
  {
   "cell_type": "code",
   "execution_count": null,
   "id": "3667196b-abc9-42bd-90fa-95b39d39143f",
   "metadata": {},
   "outputs": [],
   "source": []
  },
  {
   "cell_type": "code",
   "execution_count": null,
   "id": "7eef1af5-7c51-4046-8765-99c991117d88",
   "metadata": {},
   "outputs": [],
   "source": []
  },
  {
   "cell_type": "code",
   "execution_count": null,
   "id": "b6d48a7e-5e2f-4a2a-ba09-f837f975db3c",
   "metadata": {},
   "outputs": [],
   "source": []
  },
  {
   "cell_type": "code",
   "execution_count": null,
   "id": "c6d9c3a1-cd85-4e8b-827b-96dbf2d7f923",
   "metadata": {},
   "outputs": [],
   "source": []
  },
  {
   "cell_type": "code",
   "execution_count": null,
   "id": "14d717ec-bbed-460b-b7c3-5a77f05b90d9",
   "metadata": {},
   "outputs": [],
   "source": []
  },
  {
   "cell_type": "code",
   "execution_count": null,
   "id": "0a028973-d15e-4aa4-98c2-27edc4d0f047",
   "metadata": {},
   "outputs": [],
   "source": []
  },
  {
   "cell_type": "code",
   "execution_count": null,
   "id": "0d6e91ab-37c4-465d-a118-2d0d3d2f14e2",
   "metadata": {},
   "outputs": [],
   "source": []
  },
  {
   "cell_type": "code",
   "execution_count": null,
   "id": "02446074-cc51-4f85-aa2f-0abb95479252",
   "metadata": {},
   "outputs": [],
   "source": []
  },
  {
   "cell_type": "code",
   "execution_count": null,
   "id": "aebbcfb0-0cd8-41f8-93c1-c99f27d3ff32",
   "metadata": {},
   "outputs": [],
   "source": []
  },
  {
   "cell_type": "code",
   "execution_count": null,
   "id": "9aeeb79b-f2f6-4660-a8ea-b06e6604b646",
   "metadata": {},
   "outputs": [],
   "source": []
  },
  {
   "cell_type": "code",
   "execution_count": null,
   "id": "2408ddf7-0d36-4325-97cc-b8b082bca785",
   "metadata": {},
   "outputs": [],
   "source": []
  },
  {
   "cell_type": "code",
   "execution_count": null,
   "id": "4b795184-6ac4-4f3e-8fcb-e94f5a273649",
   "metadata": {},
   "outputs": [],
   "source": []
  },
  {
   "cell_type": "code",
   "execution_count": null,
   "id": "e365baed-32a9-46b2-a6d3-2b7a54c8c025",
   "metadata": {},
   "outputs": [],
   "source": []
  },
  {
   "cell_type": "code",
   "execution_count": null,
   "id": "a2fe2886-0b29-4f42-9317-797bc13e9a67",
   "metadata": {},
   "outputs": [],
   "source": []
  },
  {
   "cell_type": "code",
   "execution_count": null,
   "id": "5fc060f9-0d94-4a22-b87d-7aacfa1f0c2d",
   "metadata": {},
   "outputs": [],
   "source": []
  },
  {
   "cell_type": "code",
   "execution_count": null,
   "id": "f0979d86-44e5-4f8d-ab11-6349790325bb",
   "metadata": {},
   "outputs": [],
   "source": []
  },
  {
   "cell_type": "code",
   "execution_count": null,
   "id": "a0cefa57-9b47-4d55-bc8e-ae2605966739",
   "metadata": {},
   "outputs": [],
   "source": []
  },
  {
   "cell_type": "code",
   "execution_count": null,
   "id": "77200b0c-b91f-4007-b9e7-33f2987bfa7b",
   "metadata": {},
   "outputs": [],
   "source": []
  },
  {
   "cell_type": "markdown",
   "id": "01f57998-7502-4d55-8be7-3822086f1eb8",
   "metadata": {},
   "source": [
    "## fastText"
   ]
  },
  {
   "cell_type": "markdown",
   "id": "0654e48f-e7d8-4295-b1f4-df04d84c47e4",
   "metadata": {},
   "source": [
    "___\n",
    "・fasttextはfacebookが開発した分散表現を構築する手法  \n",
    "・subwordに分割して学習  \n"
   ]
  },
  {
   "cell_type": "code",
   "execution_count": 10,
   "id": "8a1e00c7-e7f5-4687-8d21-7cc2e79ccdb9",
   "metadata": {},
   "outputs": [
    {
     "name": "stdout",
     "output_type": "stream",
     "text": [
      "<class 'numpy.ndarray'>\n",
      "(300,)\n"
     ]
    },
    {
     "name": "stderr",
     "output_type": "stream",
     "text": [
      "Warning : `load_model` does not return WordVectorModel or SupervisedModel any more, but a `FastText` object which is very similar.\n"
     ]
    }
   ],
   "source": [
    "import fasttext\n",
    "model =fasttext.load_model('./hidden_files/cc.ja.300.bin/cc.ja.300.bin')\n",
    "a = model['犬']\n",
    "print(type(a))\n",
    "print(a.shape)"
   ]
  },
  {
   "cell_type": "code",
   "execution_count": null,
   "id": "cbdae4bf-79e8-4cae-a6dd-0fe4cc7792ac",
   "metadata": {},
   "outputs": [],
   "source": []
  },
  {
   "cell_type": "code",
   "execution_count": null,
   "id": "1b762dc1-ce5a-424c-ad61-d810c7869d86",
   "metadata": {},
   "outputs": [],
   "source": []
  },
  {
   "cell_type": "code",
   "execution_count": null,
   "id": "48d2e47d-bed0-402b-afcd-695ce335af06",
   "metadata": {},
   "outputs": [],
   "source": []
  },
  {
   "cell_type": "code",
   "execution_count": null,
   "id": "5567282f-702a-4aa6-9a55-614203df5944",
   "metadata": {},
   "outputs": [],
   "source": []
  },
  {
   "cell_type": "code",
   "execution_count": null,
   "id": "338ed542-6a6b-4b62-80af-6842b873fa69",
   "metadata": {},
   "outputs": [],
   "source": []
  },
  {
   "cell_type": "code",
   "execution_count": null,
   "id": "163a8f38-3608-41ed-a83c-0ae6a0729231",
   "metadata": {},
   "outputs": [],
   "source": []
  },
  {
   "cell_type": "code",
   "execution_count": null,
   "id": "920ffc5e-c339-4c4a-b25f-ab16c81b1a10",
   "metadata": {},
   "outputs": [],
   "source": []
  },
  {
   "cell_type": "code",
   "execution_count": null,
   "id": "a700c42b-1f2f-4c5c-879a-c3d82c511eeb",
   "metadata": {},
   "outputs": [],
   "source": []
  },
  {
   "cell_type": "code",
   "execution_count": null,
   "id": "36a6920c-d6f7-4f73-a57e-a6954f84405b",
   "metadata": {},
   "outputs": [],
   "source": []
  },
  {
   "cell_type": "code",
   "execution_count": null,
   "id": "a4a1666a-31bb-4f61-ae31-c4d196ad834e",
   "metadata": {},
   "outputs": [],
   "source": []
  },
  {
   "cell_type": "code",
   "execution_count": null,
   "id": "3d7ea787-8865-427a-8ae8-ac76f8799081",
   "metadata": {},
   "outputs": [],
   "source": []
  },
  {
   "cell_type": "code",
   "execution_count": null,
   "id": "50179144-a518-4e35-a45c-28714382007a",
   "metadata": {},
   "outputs": [],
   "source": []
  },
  {
   "cell_type": "code",
   "execution_count": null,
   "id": "5e310930-0974-4c91-b537-f91c8b2b5ef8",
   "metadata": {},
   "outputs": [],
   "source": []
  },
  {
   "cell_type": "code",
   "execution_count": null,
   "id": "241e2563-0faf-4490-bd4b-fa4f49d05b46",
   "metadata": {},
   "outputs": [],
   "source": []
  },
  {
   "cell_type": "code",
   "execution_count": null,
   "id": "059e17cd-43db-4fab-adcb-6b2038422829",
   "metadata": {},
   "outputs": [],
   "source": []
  },
  {
   "cell_type": "code",
   "execution_count": null,
   "id": "0b1ae8eb-ba60-4ce2-ab8f-bc5194170bea",
   "metadata": {},
   "outputs": [],
   "source": []
  }
 ],
 "metadata": {
  "kernelspec": {
   "display_name": "Python 3 (ipykernel)",
   "language": "python",
   "name": "python3"
  },
  "language_info": {
   "codemirror_mode": {
    "name": "ipython",
    "version": 3
   },
   "file_extension": ".py",
   "mimetype": "text/x-python",
   "name": "python",
   "nbconvert_exporter": "python",
   "pygments_lexer": "ipython3",
   "version": "3.10.12"
  }
 },
 "nbformat": 4,
 "nbformat_minor": 5
}
