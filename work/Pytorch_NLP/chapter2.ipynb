{
 "cells": [
  {
   "cell_type": "markdown",
   "id": "35447b6f-3073-4c4b-9f39-a4e9d71be9ac",
   "metadata": {},
   "source": [
    "## 既存の分散表現とその読み込み"
   ]
  },
  {
   "cell_type": "code",
   "execution_count": 8,
   "id": "df8aa9f0-856a-48c7-9c3f-f30ecc415bdd",
   "metadata": {},
   "outputs": [],
   "source": [
    "from gensim.models import KeyedVectors\n",
    "import numpy as np"
   ]
  },
  {
   "cell_type": "code",
   "execution_count": 3,
   "id": "7bd2892f-b800-4102-88d0-4621ec8f9a03",
   "metadata": {},
   "outputs": [],
   "source": [
    "model = KeyedVectors.load('./chive-1.1-mc5-aunit_gensim/chive-1.1-mc5-aunit.kv')"
   ]
  },
  {
   "cell_type": "markdown",
   "id": "5005b1c9-cd2c-4acf-9c9a-118ab62236ee",
   "metadata": {},
   "source": [
    "## 分散表現の利用法"
   ]
  },
  {
   "cell_type": "code",
   "execution_count": 6,
   "id": "0101b02f-beac-4fdd-b67b-590a6bfb544c",
   "metadata": {},
   "outputs": [
    {
     "name": "stdout",
     "output_type": "stream",
     "text": [
      "<class 'numpy.ndarray'>\n",
      "(300,)\n",
      "float32\n"
     ]
    }
   ],
   "source": [
    "a = model['犬']\n",
    "print(type(a))\n",
    "print(a.shape)\n",
    "print(a.dtype)"
   ]
  },
  {
   "cell_type": "code",
   "execution_count": 7,
   "id": "014497bb-f571-4461-a3d6-e3cc1e64846f",
   "metadata": {},
   "outputs": [
    {
     "data": {
      "text/plain": [
       "0.36400774"
      ]
     },
     "execution_count": 7,
     "metadata": {},
     "output_type": "execute_result"
    }
   ],
   "source": [
    "model.similarity('犬','人')"
   ]
  },
  {
   "cell_type": "code",
   "execution_count": 15,
   "id": "4ccb6991-775a-4506-815c-07a92335c4c8",
   "metadata": {},
   "outputs": [
    {
     "data": {
      "text/plain": [
       "0.3640077"
      ]
     },
     "execution_count": 15,
     "metadata": {},
     "output_type": "execute_result"
    }
   ],
   "source": [
    "# cosin類似度の計算\n",
    "v1 = model['犬']\n",
    "v2 = model['人']\n",
    "nr1 = np.linalg.norm(v1, ord=2)\n",
    "nr2 = np.linalg.norm(v2, ord=2)\n",
    "np.dot(v1, v2) / (nr1*nr2)"
   ]
  },
  {
   "cell_type": "code",
   "execution_count": 28,
   "id": "fd2ee466-2cab-40dd-be58-df8be60cd284",
   "metadata": {},
   "outputs": [
    {
     "name": "stdout",
     "output_type": "stream",
     "text": [
      "322094\n",
      "犬\n"
     ]
    }
   ],
   "source": [
    "# 語彙\n",
    "vocab = model.key_to_index\n",
    "print(len(vocab))\n",
    "\n",
    "v = vocab['犬']\n",
    "\n",
    "wlist = model.index_to_key[793]\n",
    "print(wlist)"
   ]
  },
  {
   "cell_type": "code",
   "execution_count": 29,
   "id": "46173bc2-5b02-4942-942f-b19c3f182774",
   "metadata": {},
   "outputs": [
    {
     "data": {
      "text/plain": [
       "[('愛犬', 0.7968788743019104),\n",
       " ('椀子', 0.7886560559272766),\n",
       " ('ワンコ', 0.78242427110672),\n",
       " ('柴犬', 0.7631046772003174),\n",
       " ('チワワ', 0.7435126304626465)]"
      ]
     },
     "execution_count": 29,
     "metadata": {},
     "output_type": "execute_result"
    }
   ],
   "source": [
    "# 類似度の高い単語を選出\n",
    "model.most_similar('犬', topn=5)"
   ]
  },
  {
   "cell_type": "code",
   "execution_count": 30,
   "id": "0addb19a-fcf9-408e-b4fd-3a92c4b0c538",
   "metadata": {},
   "outputs": [
    {
     "data": {
      "text/plain": [
       "[('アメリカ', 0.698302149772644),\n",
       " ('米国', 0.5914557576179504),\n",
       " ('ロサンゼルス', 0.5447147488594055)]"
      ]
     },
     "execution_count": 30,
     "metadata": {},
     "output_type": "execute_result"
    }
   ],
   "source": [
    "# ベクトル計算\n",
    "model.most_similar(positive=['日本', 'ニューヨーク'], negative=['東京'], topn=3)"
   ]
  },
  {
   "cell_type": "code",
   "execution_count": null,
   "id": "5e0715d5-b33d-47ef-8857-12246137f43b",
   "metadata": {},
   "outputs": [],
   "source": []
  },
  {
   "cell_type": "code",
   "execution_count": null,
   "id": "5fc060f9-0d94-4a22-b87d-7aacfa1f0c2d",
   "metadata": {},
   "outputs": [],
   "source": []
  },
  {
   "cell_type": "code",
   "execution_count": null,
   "id": "f0979d86-44e5-4f8d-ab11-6349790325bb",
   "metadata": {},
   "outputs": [],
   "source": []
  },
  {
   "cell_type": "code",
   "execution_count": null,
   "id": "a0cefa57-9b47-4d55-bc8e-ae2605966739",
   "metadata": {},
   "outputs": [],
   "source": []
  },
  {
   "cell_type": "code",
   "execution_count": null,
   "id": "77200b0c-b91f-4007-b9e7-33f2987bfa7b",
   "metadata": {},
   "outputs": [],
   "source": []
  }
 ],
 "metadata": {
  "kernelspec": {
   "display_name": "Python 3 (ipykernel)",
   "language": "python",
   "name": "python3"
  },
  "language_info": {
   "codemirror_mode": {
    "name": "ipython",
    "version": 3
   },
   "file_extension": ".py",
   "mimetype": "text/x-python",
   "name": "python",
   "nbconvert_exporter": "python",
   "pygments_lexer": "ipython3",
   "version": "3.10.12"
  }
 },
 "nbformat": 4,
 "nbformat_minor": 5
}
