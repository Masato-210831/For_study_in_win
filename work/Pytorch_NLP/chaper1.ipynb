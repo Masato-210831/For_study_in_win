{
 "cells": [
  {
   "cell_type": "code",
   "execution_count": 95,
   "id": "2461e4c6-bef6-41a2-8f40-cd1e0213f7fd",
   "metadata": {},
   "outputs": [],
   "source": [
    "import torch\n",
    "import torchvision\n",
    "import numpy as np\n",
    "import torch.nn as nn\n",
    "import torch.optim as optim\n",
    "import torch.nn.functional as F"
   ]
  },
  {
   "cell_type": "code",
   "execution_count": 25,
   "id": "f43100bf-908d-468e-a2f8-4e823f7fb6d0",
   "metadata": {},
   "outputs": [
    {
     "name": "stdout",
     "output_type": "stream",
     "text": [
      "tensor([[0, 1, 2],\n",
      "        [3, 4, 5]])\n",
      "tensor([[1, 2, 3],\n",
      "        [4, 5, 6]])\n"
     ]
    }
   ],
   "source": [
    "a = torch.arange(6).reshape(2, 3)\n",
    "print(a)\n",
    "\n",
    "b = a +1\n",
    "print(b)"
   ]
  },
  {
   "cell_type": "code",
   "execution_count": 26,
   "id": "c9471cf4-5345-4fd6-a891-59ac3c44c51a",
   "metadata": {},
   "outputs": [
    {
     "name": "stdout",
     "output_type": "stream",
     "text": [
      "tensor([1, 2, 3, 4])\n",
      "tensor([[0, 1, 2, 3],\n",
      "        [4, 5, 6, 7]])\n"
     ]
    }
   ],
   "source": [
    "a0 = torch.tensor([1, 2, 3, 4])\n",
    "a1 = torch.arange(8).reshape(2, 4)\n",
    "print(a0)\n",
    "print(a1)"
   ]
  },
  {
   "cell_type": "code",
   "execution_count": 30,
   "id": "8f8bea55-46e6-4ff4-9ac4-3225c25bd9f6",
   "metadata": {},
   "outputs": [
    {
     "data": {
      "text/plain": [
       "tensor([20, 60])"
      ]
     },
     "execution_count": 30,
     "metadata": {},
     "output_type": "execute_result"
    }
   ],
   "source": [
    "torch.matmul(a1, a0)"
   ]
  },
  {
   "cell_type": "code",
   "execution_count": 33,
   "id": "8a689d01-e459-4a42-a2ff-4d8cf6cfdc0f",
   "metadata": {},
   "outputs": [
    {
     "data": {
      "text/plain": [
       "tensor([[[  28,   34],\n",
       "         [  76,   98]],\n",
       "\n",
       "        [[ 428,  466],\n",
       "         [ 604,  658]],\n",
       "\n",
       "        [[1340, 1410],\n",
       "         [1644, 1730]]])"
      ]
     },
     "execution_count": 33,
     "metadata": {},
     "output_type": "execute_result"
    }
   ],
   "source": [
    "# 行列の積（バッチ）\n",
    "\n",
    "a0 = torch.arange(24).reshape(-1, 2, 4)\n",
    "a1 = torch.arange(24).reshape(-1, 4, 2)\n",
    "\n",
    "torch.matmul(a0, a1)"
   ]
  },
  {
   "cell_type": "code",
   "execution_count": 36,
   "id": "8d7a55e3-e66d-416f-8e28-740c2a5737b7",
   "metadata": {},
   "outputs": [
    {
     "name": "stdout",
     "output_type": "stream",
     "text": [
      "torch.int64\n",
      "torch.LongTensor\n"
     ]
    }
   ],
   "source": [
    "print(a0.dtype)\n",
    "print(a0.type())\n"
   ]
  },
  {
   "cell_type": "code",
   "execution_count": 56,
   "id": "bd119ac1-0234-4194-85ae-dcce655dd868",
   "metadata": {},
   "outputs": [
    {
     "name": "stdout",
     "output_type": "stream",
     "text": [
      "a0の型： torch.float32\n",
      "cの型： torch.int64\n",
      "c形成後のa0の型：torch.float32\n"
     ]
    }
   ],
   "source": [
    "a0 = torch.arange(24).reshape(-1, 2, 4).float()\n",
    "print('a0の型：',a0.dtype)\n",
    "\n",
    "c = a0.long()\n",
    "print('cの型：', c.dtype)\n",
    "print(f'c形成後のa0の型：{a0.dtype}') # 変化なし　castingはimmutable"
   ]
  },
  {
   "cell_type": "code",
   "execution_count": 63,
   "id": "cdc643af-0f5c-464a-a675-7905a7815614",
   "metadata": {},
   "outputs": [
    {
     "name": "stdout",
     "output_type": "stream",
     "text": [
      "torch.int64\n",
      "int64\n",
      "torch.int64\n"
     ]
    }
   ],
   "source": [
    "# torchとnumpyへの変換\n",
    "\n",
    "a0 = torch.arange(3)\n",
    "print(a0.dtype)\n",
    "\n",
    "b0 = a0.numpy()\n",
    "print(b0.dtype)\n",
    "\n",
    "a1 = torch.from_numpy(b0)\n",
    "print(a1.dtype)"
   ]
  },
  {
   "cell_type": "code",
   "execution_count": 68,
   "id": "7b9ab4d9-0cf8-4c1f-8050-267059287b07",
   "metadata": {},
   "outputs": [
    {
     "name": "stdout",
     "output_type": "stream",
     "text": [
      "tensor([1.], requires_grad=True)\n",
      "torch.float32\n"
     ]
    },
    {
     "ename": "RuntimeError",
     "evalue": "Can't call numpy() on Tensor that requires grad. Use tensor.detach().numpy() instead.",
     "output_type": "error",
     "traceback": [
      "\u001b[0;31m---------------------------------------------------------------------------\u001b[0m",
      "\u001b[0;31mRuntimeError\u001b[0m                              Traceback (most recent call last)",
      "Cell \u001b[0;32mIn[68], line 7\u001b[0m\n\u001b[1;32m      4\u001b[0m \u001b[38;5;28mprint\u001b[39m(a)\n\u001b[1;32m      5\u001b[0m \u001b[38;5;28mprint\u001b[39m(a\u001b[38;5;241m.\u001b[39mdtype)\n\u001b[0;32m----> 7\u001b[0m \u001b[43ma\u001b[49m\u001b[38;5;241;43m.\u001b[39;49m\u001b[43mnumpy\u001b[49m\u001b[43m(\u001b[49m\u001b[43m)\u001b[49m\n",
      "\u001b[0;31mRuntimeError\u001b[0m: Can't call numpy() on Tensor that requires grad. Use tensor.detach().numpy() instead."
     ]
    }
   ],
   "source": [
    "# 微分をもったtonsorのnumpy変換は不可 -> detch()で切り離す必要がある\n",
    "\n",
    "a = torch.tensor([1.], requires_grad=True)\n",
    "print(a)\n",
    "print(a.dtype)\n",
    "\n",
    "a.numpy()"
   ]
  },
  {
   "cell_type": "code",
   "execution_count": 70,
   "id": "d70eb909-02a9-4671-8ebb-fbf3f4684387",
   "metadata": {},
   "outputs": [
    {
     "data": {
      "text/plain": [
       "array([1.], dtype=float32)"
      ]
     },
     "execution_count": 70,
     "metadata": {},
     "output_type": "execute_result"
    }
   ],
   "source": [
    "a.detach().numpy()"
   ]
  },
  {
   "cell_type": "code",
   "execution_count": 71,
   "id": "dfcb8501-2fcd-47bc-ab00-efb9c52fba4d",
   "metadata": {},
   "outputs": [
    {
     "data": {
      "text/plain": [
       "dtype('float64')"
      ]
     },
     "execution_count": 71,
     "metadata": {},
     "output_type": "execute_result"
    }
   ],
   "source": [
    "np.array([1.]).dtype"
   ]
  },
  {
   "cell_type": "code",
   "execution_count": 74,
   "id": "0625a7ba-9d0e-450f-9679-a75881b7c4ed",
   "metadata": {},
   "outputs": [
    {
     "name": "stdout",
     "output_type": "stream",
     "text": [
      "tensor([[0., 0., 0.],\n",
      "        [0., 0., 0.],\n",
      "        [1., 1., 1.],\n",
      "        [1., 1., 1.]])\n",
      "tensor([[0., 0., 0., 1., 1., 1.],\n",
      "        [0., 0., 0., 1., 1., 1.]])\n"
     ]
    }
   ],
   "source": [
    "# tensorの結合\n",
    "a = torch.zeros(6).reshape(2, 3)\n",
    "b = torch.ones(6).reshape(2, 3)\n",
    "\n",
    "# 基本はvstack\n",
    "print(torch.cat((a, b)))\n",
    "\n",
    "# hstack\n",
    "print(torch.cat((a,b), dim=1))\n"
   ]
  },
  {
   "cell_type": "code",
   "execution_count": 79,
   "id": "8e05e568-da9a-4c59-bdb6-5197c387b521",
   "metadata": {},
   "outputs": [
    {
     "data": {
      "text/plain": [
       "tensor([[[0., 0., 0.],\n",
       "         [0., 0., 0.]],\n",
       "\n",
       "        [[1., 1., 1.],\n",
       "         [1., 1., 1.]],\n",
       "\n",
       "        [[2., 2., 2.],\n",
       "         [2., 2., 2.]]])"
      ]
     },
     "execution_count": 79,
     "metadata": {},
     "output_type": "execute_result"
    }
   ],
   "source": [
    "# 2次元の配列のリストをバッチ化\n",
    "a = torch.zeros(6).reshape(2, 3)\n",
    "b = torch.ones(6).reshape(2, 3)\n",
    "c = a + 2\n",
    "\n",
    "torch.stack([a, b, c])"
   ]
  },
  {
   "cell_type": "code",
   "execution_count": 81,
   "id": "cc446900-16e4-4b79-bea6-bb4a15d77c48",
   "metadata": {},
   "outputs": [
    {
     "name": "stdout",
     "output_type": "stream",
     "text": [
      "torch.Size([2, 3])\n",
      "torch.Size([1, 2, 3])\n",
      "tensor([[[0., 0., 0.],\n",
      "         [0., 0., 0.]]])\n"
     ]
    }
   ],
   "source": [
    "# 軸の追加\n",
    "\n",
    "a = torch.zeros(6).reshape(2, 3)\n",
    "b = a.unsqueeze(0)\n",
    "print(a.shape)\n",
    "print(b.shape)\n",
    "print(b)"
   ]
  },
  {
   "cell_type": "code",
   "execution_count": 85,
   "id": "344820e6-9188-4ae5-a648-2592c396581d",
   "metadata": {},
   "outputs": [
    {
     "name": "stdout",
     "output_type": "stream",
     "text": [
      "tensor([[[ 0,  1,  2],\n",
      "         [ 3,  4,  5]],\n",
      "\n",
      "        [[ 6,  7,  8],\n",
      "         [ 9, 10, 11]]])\n"
     ]
    },
    {
     "data": {
      "text/plain": [
       "tensor([[[ 0,  3],\n",
       "         [ 6,  9]],\n",
       "\n",
       "        [[ 1,  4],\n",
       "         [ 7, 10]],\n",
       "\n",
       "        [[ 2,  5],\n",
       "         [ 8, 11]]])"
      ]
     },
     "execution_count": 85,
     "metadata": {},
     "output_type": "execute_result"
    }
   ],
   "source": [
    "# 軸の入れ替え\n",
    "a = torch.arange(12).reshape(2, 2, 3)\n",
    "print(a)\n",
    "\n",
    "torch.permute(a, (2, 0, 1))\n"
   ]
  },
  {
   "cell_type": "markdown",
   "id": "693900e9-03bd-4e05-823a-37d4557bdc2e",
   "metadata": {},
   "source": [
    "## 自動微分"
   ]
  },
  {
   "cell_type": "code",
   "execution_count": 87,
   "id": "06ee4602-f48f-4c51-b273-5c11165ae3e1",
   "metadata": {},
   "outputs": [
    {
     "data": {
      "text/plain": [
       "tensor([-8.])"
      ]
     },
     "execution_count": 87,
     "metadata": {},
     "output_type": "execute_result"
    }
   ],
   "source": [
    "x1 = torch.tensor([1.], requires_grad=True)\n",
    "x2 = torch.tensor([2.], requires_grad=True)\n",
    "x3 = torch.tensor([3.], requires_grad=True)\n",
    "\n",
    "z = (x1 - 2*x2 -1)**2 + (x2*x3 - 1)**2 + 1\n",
    "\n",
    "z.backward()\n",
    "x1.grad"
   ]
  },
  {
   "cell_type": "code",
   "execution_count": 94,
   "id": "95d9110b-3a76-464e-b998-4ebaa71fc209",
   "metadata": {},
   "outputs": [
    {
     "name": "stdout",
     "output_type": "stream",
     "text": [
      "x = tensor([-0.2087, -0.6063, -1.6405]), f = 1.0000436305999756\n"
     ]
    }
   ],
   "source": [
    "def f(x):\n",
    "    return (x[0]-2*x[1]-1)**2 + (x[1]*x[2]-1)**2 + 1\n",
    "\n",
    "\n",
    "def f_grad(x):\n",
    "    z = f(x)\n",
    "    z.backward()\n",
    "    return x.grad\n",
    "\n",
    "\n",
    "x = torch.tensor([1., 2., 3., ], requires_grad=True)\n",
    "\n",
    "for i in range(50):\n",
    "    x = x - 0.1 * f_grad(x)\n",
    "    x = x.detach().requires_grad_(True)\n",
    "\n",
    "print(f\"x = {x.data}, f = {f(x).item()}\")"
   ]
  },
  {
   "cell_type": "markdown",
   "id": "34ffcc21-cefa-45f2-a6ce-67169a4b3d38",
   "metadata": {},
   "source": [
    "## Pytorchの学習プログラムの作成"
   ]
  },
  {
   "cell_type": "markdown",
   "id": "05a1b14f-9994-46e6-8fa3-25f754bae902",
   "metadata": {},
   "source": [
    "___\n",
    "・基本はdatasetでデータ準備（呼び出し＋加工）、dataloaderでそのデータを呼び出す。  \n",
    "・NLPではDataLoaderを使うのは面倒なのであまり使用しない？？"
   ]
  },
  {
   "cell_type": "code",
   "execution_count": 98,
   "id": "664f5617-0a63-48de-88b8-ff95b84934c6",
   "metadata": {},
   "outputs": [],
   "source": [
    "from sklearn import datasets\n",
    "from sklearn.model_selection import train_test_split\n",
    "\n",
    "# データ準備\n",
    "iris = datasets.load_iris()\n",
    "X_train, X_test, y_train, y_test = train_test_split(iris.data, iris.target, test_size=0.5)\n",
    "\n",
    "# 型の指定\n",
    "X_train = torch.from_numpy(X_train).float()\n",
    "y_train = torch.from_numpy(y_train).float()\n",
    "X_test = torch.from_numpy(X_test).long()\n",
    "y_test = torch.from_numpy(y_test).long()"
   ]
  },
  {
   "cell_type": "code",
   "execution_count": null,
   "id": "e8bd345e-3817-4a1e-93eb-11b59f05e167",
   "metadata": {},
   "outputs": [],
   "source": [
    "# モデルの定義"
   ]
  },
  {
   "cell_type": "code",
   "execution_count": null,
   "id": "12279967-cf21-43af-abd2-8290e15ce1cc",
   "metadata": {},
   "outputs": [],
   "source": []
  },
  {
   "cell_type": "code",
   "execution_count": null,
   "id": "60be8d4d-a970-4621-90e4-d9d139784615",
   "metadata": {},
   "outputs": [],
   "source": []
  },
  {
   "cell_type": "code",
   "execution_count": null,
   "id": "4ea68cbc-1f7c-4d49-9b92-fb20b83304e6",
   "metadata": {},
   "outputs": [],
   "source": []
  },
  {
   "cell_type": "code",
   "execution_count": null,
   "id": "e8e4608a-fc1a-40a4-9b5d-2f6787967425",
   "metadata": {},
   "outputs": [],
   "source": []
  },
  {
   "cell_type": "code",
   "execution_count": null,
   "id": "3526669f-3c88-48e4-8c95-96ba23ed9b3a",
   "metadata": {},
   "outputs": [],
   "source": []
  },
  {
   "cell_type": "code",
   "execution_count": null,
   "id": "051473da-7af2-4634-abb6-87a2e8047b6c",
   "metadata": {},
   "outputs": [],
   "source": []
  },
  {
   "cell_type": "code",
   "execution_count": null,
   "id": "2e07b921-4dbc-4bc4-9fee-7843e7051bed",
   "metadata": {},
   "outputs": [],
   "source": []
  },
  {
   "cell_type": "code",
   "execution_count": null,
   "id": "3fc73048-4651-425e-8b40-39eaa73e5618",
   "metadata": {},
   "outputs": [],
   "source": []
  },
  {
   "cell_type": "code",
   "execution_count": null,
   "id": "647cd027-6081-400a-982a-d60a21f71f5e",
   "metadata": {},
   "outputs": [],
   "source": []
  },
  {
   "cell_type": "code",
   "execution_count": null,
   "id": "db52da45-1301-44d2-9191-fe1b2b7bbb5e",
   "metadata": {},
   "outputs": [],
   "source": []
  },
  {
   "cell_type": "code",
   "execution_count": null,
   "id": "d2736841-99d4-4014-9590-5e59a4b928fa",
   "metadata": {},
   "outputs": [],
   "source": []
  },
  {
   "cell_type": "code",
   "execution_count": null,
   "id": "79a17756-85f2-4de1-9870-773a17487e0f",
   "metadata": {},
   "outputs": [],
   "source": []
  },
  {
   "cell_type": "code",
   "execution_count": null,
   "id": "117b1005-f469-4729-84e2-e67f713f43f9",
   "metadata": {},
   "outputs": [],
   "source": []
  },
  {
   "cell_type": "code",
   "execution_count": null,
   "id": "64cfd8b0-8b74-47b5-9236-4debfe6700fb",
   "metadata": {},
   "outputs": [],
   "source": []
  },
  {
   "cell_type": "code",
   "execution_count": null,
   "id": "5a8bedeb-9399-449c-a6ac-8aed7bedc244",
   "metadata": {},
   "outputs": [],
   "source": []
  },
  {
   "cell_type": "code",
   "execution_count": null,
   "id": "38629977-acf8-4669-8aed-d860812b107a",
   "metadata": {},
   "outputs": [],
   "source": []
  },
  {
   "cell_type": "code",
   "execution_count": null,
   "id": "77bbd797-2a4b-40cf-8a12-54f21b22d05b",
   "metadata": {},
   "outputs": [],
   "source": []
  },
  {
   "cell_type": "code",
   "execution_count": null,
   "id": "59417bdb-727f-4e2c-a822-49d4d2955d6a",
   "metadata": {},
   "outputs": [],
   "source": []
  },
  {
   "cell_type": "code",
   "execution_count": null,
   "id": "e85ed9a5-9b4e-4e26-b6ad-388ed550d7e6",
   "metadata": {},
   "outputs": [],
   "source": []
  },
  {
   "cell_type": "code",
   "execution_count": null,
   "id": "6567b4a0-a4c9-4f0b-807f-bb0242ed1a0b",
   "metadata": {},
   "outputs": [],
   "source": []
  }
 ],
 "metadata": {
  "kernelspec": {
   "display_name": "Python 3 (ipykernel)",
   "language": "python",
   "name": "python3"
  },
  "language_info": {
   "codemirror_mode": {
    "name": "ipython",
    "version": 3
   },
   "file_extension": ".py",
   "mimetype": "text/x-python",
   "name": "python",
   "nbconvert_exporter": "python",
   "pygments_lexer": "ipython3",
   "version": "3.10.12"
  }
 },
 "nbformat": 4,
 "nbformat_minor": 5
}
